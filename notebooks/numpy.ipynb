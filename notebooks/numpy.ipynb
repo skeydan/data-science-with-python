{
 "cells": [
  {
   "cell_type": "markdown",
   "metadata": {},
   "source": [
    "# Introduction to numpy"
   ]
  },
  {
   "cell_type": "markdown",
   "metadata": {},
   "source": [
    "## ndarray: Creation "
   ]
  },
  {
   "cell_type": "code",
   "execution_count": 1,
   "metadata": {},
   "outputs": [
    {
     "data": {
      "text/plain": [
       "array([ 2, 55,  7])"
      ]
     },
     "execution_count": 1,
     "metadata": {},
     "output_type": "execute_result"
    }
   ],
   "source": [
    "import numpy as np                # NumPy is conventionally imported as np\n",
    "a1 = np.array([2,55,7])\n",
    "a1"
   ]
  },
  {
   "cell_type": "code",
   "execution_count": 2,
   "metadata": {},
   "outputs": [
    {
     "name": "stdout",
     "output_type": "stream",
     "text": [
      "1\n",
      "(3,)\n"
     ]
    },
    {
     "data": {
      "text/plain": [
       "dtype('int64')"
      ]
     },
     "execution_count": 2,
     "metadata": {},
     "output_type": "execute_result"
    }
   ],
   "source": [
    "print(a1.ndim)\n",
    "print(a1.shape)\n",
    "a1.dtype"
   ]
  },
  {
   "cell_type": "code",
   "execution_count": 3,
   "metadata": {},
   "outputs": [
    {
     "name": "stdout",
     "output_type": "stream",
     "text": [
      "[[1 2 3]\n",
      " [4 5 6]]\n",
      "2\n"
     ]
    },
    {
     "data": {
      "text/plain": [
       "(2, 3)"
      ]
     },
     "execution_count": 3,
     "metadata": {},
     "output_type": "execute_result"
    }
   ],
   "source": [
    "a2 = np.array([[1,2,3],[4,5,6]])\n",
    "print(a2)\n",
    "print(a2.ndim)\n",
    "a2.shape"
   ]
  },
  {
   "cell_type": "code",
   "execution_count": 6,
   "metadata": {},
   "outputs": [
    {
     "name": "stdout",
     "output_type": "stream",
     "text": [
      "[[[ 2  2]\n",
      "  [ 4  4]\n",
      "  [ 6  6]]\n",
      "\n",
      " [[ 8  8]\n",
      "  [10 10]\n",
      "  [12 12]]\n",
      "\n",
      " [[14 14]\n",
      "  [16 16]\n",
      "  [18 18]]\n",
      "\n",
      " [[20 20]\n",
      "  [22 22]\n",
      "  [24 24]]]\n",
      "3\n",
      "(4, 3, 2)\n"
     ]
    }
   ],
   "source": [
    "a3 = np.array([[[2,2], [4,4], [6,6]], [[8,8], [10,10], [12,12]], [[14,14], [16,16], [18,18]],[[20,20], [22,22], [24,24]]])\n",
    "print(a3)\n",
    "print(a3.ndim)\n",
    "print(a3.shape)"
   ]
  },
  {
   "cell_type": "code",
   "execution_count": 10,
   "metadata": {},
   "outputs": [
    {
     "name": "stdout",
     "output_type": "stream",
     "text": [
      "[0 1 2 3 4 5 6 7 8 9]\n"
     ]
    },
    {
     "data": {
      "text/plain": [
       "array([0, 2, 4, 6, 8])"
      ]
     },
     "execution_count": 10,
     "metadata": {},
     "output_type": "execute_result"
    }
   ],
   "source": [
    "print(np.arange(0,10))                  # start index is inclusive, end is exclusive\n",
    "np.arange(0,10,2)                       # optionally specify step size"
   ]
  },
  {
   "cell_type": "code",
   "execution_count": 11,
   "metadata": {},
   "outputs": [
    {
     "data": {
      "text/plain": [
       "array([[ 0,  1,  2,  3],\n",
       "       [ 4,  5,  6,  7],\n",
       "       [ 8,  9, 10, 11],\n",
       "       [12, 13, 14, 15]])"
      ]
     },
     "execution_count": 11,
     "metadata": {},
     "output_type": "execute_result"
    }
   ],
   "source": [
    "np.arange(0,16).reshape(4,4)"
   ]
  },
  {
   "cell_type": "code",
   "execution_count": 12,
   "metadata": {},
   "outputs": [
    {
     "name": "stdout",
     "output_type": "stream",
     "text": [
      "[ 0.  0.]\n",
      "[[ 0.  0.  0.  0.]\n",
      " [ 0.  0.  0.  0.]]\n"
     ]
    },
    {
     "data": {
      "text/plain": [
       "array([[ 1.,  1.,  1.],\n",
       "       [ 1.,  1.,  1.],\n",
       "       [ 1.,  1.,  1.]])"
      ]
     },
     "execution_count": 12,
     "metadata": {},
     "output_type": "execute_result"
    }
   ],
   "source": [
    "print(np.zeros(2))\n",
    "print(np.zeros((2,4)))\n",
    "np.ones((3,3))"
   ]
  },
  {
   "cell_type": "markdown",
   "metadata": {},
   "source": [
    "## Indexing and slicing"
   ]
  },
  {
   "cell_type": "code",
   "execution_count": 14,
   "metadata": {},
   "outputs": [
    {
     "name": "stdout",
     "output_type": "stream",
     "text": [
      "[0 1 2 3]\n",
      "[8 9]\n"
     ]
    },
    {
     "data": {
      "text/plain": [
       "array([ 0,  1,  2, 77,  4,  5,  6,  7,  8,  9])"
      ]
     },
     "execution_count": 14,
     "metadata": {},
     "output_type": "execute_result"
    }
   ],
   "source": [
    "a = np.arange(10)\n",
    "print(a[:4])\n",
    "print(a[-2:])\n",
    "a[3] = 77\n",
    "a"
   ]
  },
  {
   "cell_type": "code",
   "execution_count": 15,
   "metadata": {},
   "outputs": [
    {
     "data": {
      "text/plain": [
       "array([  0,   1,   2,   3,   4, 255, 255, 255, 255, 255])"
      ]
     },
     "execution_count": 15,
     "metadata": {},
     "output_type": "execute_result"
    }
   ],
   "source": [
    "a = np.arange(10)\n",
    "a[5:] = 255\n",
    "a"
   ]
  },
  {
   "cell_type": "code",
   "execution_count": 16,
   "metadata": {},
   "outputs": [
    {
     "name": "stdout",
     "output_type": "stream",
     "text": [
      "[[0 1]\n",
      " [2 3]\n",
      " [4 5]]\n"
     ]
    },
    {
     "data": {
      "text/plain": [
       "1"
      ]
     },
     "execution_count": 16,
     "metadata": {},
     "output_type": "execute_result"
    }
   ],
   "source": [
    "a = np.arange(6).reshape(3,2)\n",
    "print(a)\n",
    "a[0][1]                       # row 0, column 1\n"
   ]
  },
  {
   "cell_type": "code",
   "execution_count": 17,
   "metadata": {},
   "outputs": [
    {
     "name": "stdout",
     "output_type": "stream",
     "text": [
      "[[[ 0  1]\n",
      "  [ 2  3]]\n",
      "\n",
      " [[ 4  5]\n",
      "  [ 6  7]]\n",
      "\n",
      " [[ 8  9]\n",
      "  [10 11]]]\n",
      "[[0 1]\n",
      " [2 3]]\n",
      "[2 3]\n"
     ]
    }
   ],
   "source": [
    "a = np.arange(12).reshape(3,2,2)       # a three-dimensional array\n",
    "print(a)\n",
    "print(a[0])                            # a two-dimensional array\n",
    "print(a[0][1])                         # a one-dimensional array"
   ]
  },
  {
   "cell_type": "code",
   "execution_count": 18,
   "metadata": {},
   "outputs": [
    {
     "name": "stdout",
     "output_type": "stream",
     "text": [
      "[[ 0  1  2  3  4]\n",
      " [ 5  6  7  8  9]\n",
      " [10 11 12 13 14]]\n"
     ]
    },
    {
     "data": {
      "text/plain": [
       "array([[0],\n",
       "       [5]])"
      ]
     },
     "execution_count": 18,
     "metadata": {},
     "output_type": "execute_result"
    }
   ],
   "source": [
    "a = np.array([[ 0,  1,  2,  3,  4], [ 5,  6,  7,  8,  9], [10, 11, 12, 13, 14]])\n",
    "print(a)\n",
    "a[:2,:1]                               # take slice 0-1 of first dimension and 0 of second"
   ]
  },
  {
   "cell_type": "code",
   "execution_count": 19,
   "metadata": {},
   "outputs": [
    {
     "data": {
      "text/plain": [
       "array([[0, 1, 2, 3, 4]])"
      ]
     },
     "execution_count": 19,
     "metadata": {},
     "output_type": "execute_result"
    }
   ],
   "source": [
    "a[:2][:1]                              # take slice 0-1 of first dimension first, then 0 of result"
   ]
  },
  {
   "cell_type": "markdown",
   "metadata": {},
   "source": [
    "### Boolean Indexing"
   ]
  },
  {
   "cell_type": "code",
   "execution_count": 21,
   "metadata": {},
   "outputs": [
    {
     "name": "stdout",
     "output_type": "stream",
     "text": [
      "[[-1.00862218  0.1217579   1.27765805 -1.16219206  1.30082852]\n",
      " [ 1.47241423 -0.70257884  0.04741811  1.16638602 -0.45976957]\n",
      " [-1.27100299  0.2890124  -0.47289796  0.52276187  0.46169986]]\n",
      "[1 5 1]\n",
      "[ True False  True]\n",
      "[[-1.00862218  0.1217579   1.27765805 -1.16219206  1.30082852]\n",
      " [-1.27100299  0.2890124  -0.47289796  0.52276187  0.46169986]]\n"
     ]
    }
   ],
   "source": [
    "data = np.random.randn(3, 5)\n",
    "print(data)\n",
    "\n",
    "subjects = np.array([1,5,1])\n",
    "print(subjects)\n",
    "\n",
    "print(subjects == 1)                          # yields an array of booleans\n",
    "\n",
    "print(data[subjects == 1])                    # filter"
   ]
  },
  {
   "cell_type": "code",
   "execution_count": 22,
   "metadata": {},
   "outputs": [
    {
     "name": "stdout",
     "output_type": "stream",
     "text": [
      "[1 1 5 3 1]\n",
      "[ True  True False False  True]\n"
     ]
    },
    {
     "data": {
      "text/plain": [
       "array([[-1.00862218,  0.1217579 ,  1.30082852],\n",
       "       [ 1.47241423, -0.70257884, -0.45976957],\n",
       "       [-1.27100299,  0.2890124 ,  0.46169986]])"
      ]
     },
     "execution_count": 22,
     "metadata": {},
     "output_type": "execute_result"
    }
   ],
   "source": [
    "topics = np.array([1,1,5,3,1])\n",
    "print(topics)\n",
    "\n",
    "print(topics == 1)\n",
    "data[:, topics == 1]                            # : means include every row"
   ]
  },
  {
   "cell_type": "markdown",
   "metadata": {},
   "source": [
    "### Normal vs. Boolean Indexing"
   ]
  },
  {
   "cell_type": "code",
   "execution_count": 29,
   "metadata": {},
   "outputs": [
    {
     "name": "stdout",
     "output_type": "stream",
     "text": [
      "[[ 0.89149421 -0.34873975  1.51897823]\n",
      " [ 0.16578387  1.81921544  0.54228857]\n",
      " [-0.413711   -0.64860044 -0.50664678]]\n",
      "[[ 0.89149421 -0.34873975  1.51897823]\n",
      " [ 0.16578387  1.81921544  0.54228857]]\n",
      "[[ 0.89149421 -0.34873975  1.51897823]\n",
      " [ 2.16578387  3.81921544  2.54228857]]\n"
     ]
    },
    {
     "data": {
      "text/plain": [
       "array([[ 0.89149421, -0.34873975,  1.51897823],\n",
       "       [ 2.16578387,  3.81921544,  2.54228857],\n",
       "       [-0.413711  , -0.64860044, -0.50664678]])"
      ]
     },
     "execution_count": 29,
     "metadata": {},
     "output_type": "execute_result"
    }
   ],
   "source": [
    "a = np.random.randn(3,3)\n",
    "print(a)\n",
    "\n",
    "b = a[:2]                                       # b consists of rows 0-1 of a\n",
    "print(b)\n",
    "\n",
    "b[1] = b[1] + 2                                 # increment every cell in b’s row 1 by 2\n",
    "print(b)\n",
    "\n",
    "a                                               # now the corresponding row in a is incremented too"
   ]
  },
  {
   "cell_type": "code",
   "execution_count": 30,
   "metadata": {},
   "outputs": [
    {
     "name": "stdout",
     "output_type": "stream",
     "text": [
      "[ 0.59782515  0.3382994  -0.66841437  1.71542678]\n",
      "[ 0.59782515  0.3382994  -0.66841437  1.71542678]\n",
      "[ 0.59782515  0.3382994  -0.66841437  1.71542678]\n"
     ]
    }
   ],
   "source": [
    "a = np.random.randn(4)\n",
    "print(a)\n",
    "\n",
    "b = a[a != 0]\n",
    "print(b)\n",
    "\n",
    "b[2] = 1000\n",
    "print(a)"
   ]
  },
  {
   "cell_type": "markdown",
   "metadata": {},
   "source": [
    "## Vectorization and broadcasting"
   ]
  },
  {
   "cell_type": "code",
   "execution_count": 36,
   "metadata": {},
   "outputs": [
    {
     "name": "stdout",
     "output_type": "stream",
     "text": [
      "[1 2 3]\n",
      "[1 3 5]\n",
      "[ 1  9 25]\n"
     ]
    }
   ],
   "source": [
    "x = np.arange(3)\n",
    "y = x + 1                              # y is created by adding 1 to every element of x\n",
    "print(y)\n",
    "\n",
    "print(x + y)                           # x and y are added element-wise\n",
    "\n",
    "print((x + y)**2)                      # sum of x and y is squared element-wise       "
   ]
  },
  {
   "cell_type": "markdown",
   "metadata": {},
   "source": [
    "### Broadcasting"
   ]
  },
  {
   "cell_type": "code",
   "execution_count": 33,
   "metadata": {},
   "outputs": [
    {
     "name": "stdout",
     "output_type": "stream",
     "text": [
      "[0 1 2]\n",
      "[1 2 3]\n",
      "[[ 0  1  2]\n",
      " [ 3  4  5]\n",
      " [ 6  7  8]\n",
      " [ 9 10 11]]\n"
     ]
    },
    {
     "data": {
      "text/plain": [
       "array([[ 0,  2,  4],\n",
       "       [ 3,  5,  7],\n",
       "       [ 6,  8, 10],\n",
       "       [ 9, 11, 13]])"
      ]
     },
     "execution_count": 33,
     "metadata": {},
     "output_type": "execute_result"
    }
   ],
   "source": [
    "print(x)                               # x is a one-dimensional array with shape (3,)\n",
    "\n",
    "print(x + 1)                           # adding a scalar means the scalar is added to every element\n",
    "\n",
    "z = np.arange(12).reshape(4,3)         # z is a two-dimensional array with shape (4,3)\n",
    "print(z)\n",
    "\n",
    "z + x                                  # adding x to every row of z"
   ]
  },
  {
   "cell_type": "markdown",
   "metadata": {},
   "source": [
    "### ufuncs"
   ]
  },
  {
   "cell_type": "code",
   "execution_count": 34,
   "metadata": {},
   "outputs": [
    {
     "data": {
      "text/plain": [
       "array([ 0.        ,  1.        ,  1.41421356,  1.73205081,  2.        ])"
      ]
     },
     "execution_count": 34,
     "metadata": {},
     "output_type": "execute_result"
    }
   ],
   "source": [
    "a = np.arange(5)\n",
    "np.sqrt(a)"
   ]
  },
  {
   "cell_type": "code",
   "execution_count": 35,
   "metadata": {},
   "outputs": [
    {
     "data": {
      "text/plain": [
       "array([ 1.49259262,  1.        ,  2.        ,  3.        ,  4.        ])"
      ]
     },
     "execution_count": 35,
     "metadata": {},
     "output_type": "execute_result"
    }
   ],
   "source": [
    "a = np.arange(5)\n",
    "b = 1.3 * np.random.randn(5) + 2\n",
    "np.maximum(a,b)\n"
   ]
  },
  {
   "attachments": {},
   "cell_type": "markdown",
   "metadata": {},
   "source": [
    "### where: a vectorized ternary operator "
   ]
  },
  {
   "cell_type": "code",
   "execution_count": 38,
   "metadata": {},
   "outputs": [
    {
     "data": {
      "text/plain": [
       "array(['Empty', 'green', 'ideas', 'sleep', 'furiously'], \n",
       "      dtype='<U9')"
      ]
     },
     "execution_count": 38,
     "metadata": {},
     "output_type": "execute_result"
    }
   ],
   "source": [
    "sentence = np.array(['Colorless', 'green', 'ideas', 'sleep', 'furiously'])\n",
    "\n",
    "# arg 1: condition, arg 2: True outcome, arg 3: False outcome\n",
    "\n",
    "np.where(sentence == \"Colorless\", \"Empty\", sentence)"
   ]
  },
  {
   "cell_type": "code",
   "execution_count": 39,
   "metadata": {},
   "outputs": [
    {
     "data": {
      "text/plain": [
       "array([ 0.        ,  0.        ,  0.75932772,  0.        ,  0.15289307])"
      ]
     },
     "execution_count": 39,
     "metadata": {},
     "output_type": "execute_result"
    }
   ],
   "source": [
    "a = np.random.randn(5)\n",
    "np.where(a < 0, 0, a)"
   ]
  },
  {
   "cell_type": "markdown",
   "metadata": {},
   "source": [
    "## Set operations, deduplication and sorting\n"
   ]
  },
  {
   "cell_type": "code",
   "execution_count": 40,
   "metadata": {},
   "outputs": [
    {
     "data": {
      "text/plain": [
       "array([1, 2, 4])"
      ]
     },
     "execution_count": 40,
     "metadata": {},
     "output_type": "execute_result"
    }
   ],
   "source": [
    "a = np.array([1,2,4,2])\n",
    "np.unique(a)"
   ]
  },
  {
   "cell_type": "code",
   "execution_count": 41,
   "metadata": {},
   "outputs": [
    {
     "name": "stdout",
     "output_type": "stream",
     "text": [
      "[[1 2 4 2]\n",
      " [1 2 4 2]]\n"
     ]
    },
    {
     "data": {
      "text/plain": [
       "array([1, 2, 4])"
      ]
     },
     "execution_count": 41,
     "metadata": {},
     "output_type": "execute_result"
    }
   ],
   "source": [
    "# When applying unique() to higher-dimensional arrays, those get flattened first:\n",
    "b = np.vstack((a,a))\n",
    "print(b)\n",
    "\n",
    "np.unique(b)"
   ]
  },
  {
   "cell_type": "code",
   "execution_count": 42,
   "metadata": {},
   "outputs": [
    {
     "name": "stdout",
     "output_type": "stream",
     "text": [
      "[0 1 2 3 4 5 6 7 8 9]\n",
      "[2 3 4 5 6]\n",
      "[0 1 7 8 9]\n"
     ]
    }
   ],
   "source": [
    "a = np.arange(10); b = np.arange(2,7)\n",
    "print(np.union1d(a,b))\n",
    "\n",
    "print(np.intersect1d(a,b))\n",
    "\n",
    "print(np.setdiff1d(a,b))\n"
   ]
  },
  {
   "cell_type": "code",
   "execution_count": 43,
   "metadata": {},
   "outputs": [
    {
     "data": {
      "text/plain": [
       "array([False, False,  True,  True,  True,  True,  True, False, False, False], dtype=bool)"
      ]
     },
     "execution_count": 43,
     "metadata": {},
     "output_type": "execute_result"
    }
   ],
   "source": [
    "np.in1d(a,b)\n"
   ]
  },
  {
   "cell_type": "markdown",
   "metadata": {},
   "source": [
    "#### ndarray has a sort() method that when given no parameters, sorts the array in-place, across the last axis:\n"
   ]
  },
  {
   "cell_type": "code",
   "execution_count": 51,
   "metadata": {},
   "outputs": [
    {
     "name": "stdout",
     "output_type": "stream",
     "text": [
      "[ 0  1  7  4  6  8 10 11  9  5  3  2]\n",
      "[[ 0  1  7  4]\n",
      " [ 6  8 10 11]\n",
      " [ 9  5  3  2]]\n",
      "[[ 0  1  4  7]\n",
      " [ 6  8 10 11]\n",
      " [ 2  3  5  9]]\n"
     ]
    }
   ],
   "source": [
    "a = np.arange(12)\n",
    "np.random.shuffle(a)                   # shuffles array elements in-place\n",
    "print(a)\n",
    "\n",
    "a = a.reshape(3,4)\n",
    "print(a)\n",
    "\n",
    "a.sort()\n",
    "print(a)"
   ]
  },
  {
   "cell_type": "markdown",
   "metadata": {},
   "source": [
    "#### You can also sort along a specific dimension specifying the axis= parameter:"
   ]
  },
  {
   "cell_type": "code",
   "execution_count": 54,
   "metadata": {},
   "outputs": [
    {
     "name": "stdout",
     "output_type": "stream",
     "text": [
      "[[ 6  5  4  0]\n",
      " [11  9  1  2]\n",
      " [ 8  7  3 10]]\n",
      "[[ 0  4  5  6]\n",
      " [ 1  2  9 11]\n",
      " [ 3  7  8 10]]\n",
      "[[ 0  2  5  6]\n",
      " [ 1  4  8 10]\n",
      " [ 3  7  9 11]]\n"
     ]
    }
   ],
   "source": [
    "a = np.arange(12)\n",
    "np.random.shuffle(a)\n",
    "a = a.reshape(3,4)\n",
    "print(a)\n",
    "\n",
    "a.sort(axis=1)                 # sort across columns (axis 1)\n",
    "print(a)\n",
    "\n",
    "a.sort(axis=0)                 # now sort across rows (axis 0)\n",
    "print(a)"
   ]
  },
  {
   "attachments": {},
   "cell_type": "markdown",
   "metadata": {},
   "source": [
    "#### To return a copy instead of sorting an array in-place, use the sort() function instead of the ndarray object’s method:"
   ]
  },
  {
   "cell_type": "code",
   "execution_count": 55,
   "metadata": {},
   "outputs": [
    {
     "name": "stdout",
     "output_type": "stream",
     "text": [
      "[ 1.15085276  1.42111719 -1.84741484  0.0151491  -0.83219872]\n",
      "[-1.84741484 -0.83219872  0.0151491   1.15085276  1.42111719]\n",
      "[ 1.15085276  1.42111719 -1.84741484  0.0151491  -0.83219872]\n"
     ]
    }
   ],
   "source": [
    "a = np.random.randn(5)\n",
    "print(a)\n",
    "\n",
    "print(np.sort(a))\n",
    "\n",
    "print(a)                              # a is unchanged"
   ]
  },
  {
   "cell_type": "markdown",
   "metadata": {},
   "source": [
    "## Statistics, random numbers, and linear algebra\n"
   ]
  },
  {
   "cell_type": "code",
   "execution_count": 56,
   "metadata": {},
   "outputs": [
    {
     "name": "stdout",
     "output_type": "stream",
     "text": [
      "[[0 1 2 3]\n",
      " [4 5 6 7]]\n"
     ]
    },
    {
     "data": {
      "text/plain": [
       "3.5"
      ]
     },
     "execution_count": 56,
     "metadata": {},
     "output_type": "execute_result"
    }
   ],
   "source": [
    "a = np.arange(8).reshape(2,4)\n",
    "print(a)\n",
    "\n",
    "a.mean()"
   ]
  },
  {
   "cell_type": "code",
   "execution_count": 58,
   "metadata": {},
   "outputs": [
    {
     "data": {
      "text/plain": [
       "array([ 2.,  3.,  4.,  5.])"
      ]
     },
     "execution_count": 58,
     "metadata": {},
     "output_type": "execute_result"
    }
   ],
   "source": [
    "a.mean(axis=0)                         # aggregate over rows"
   ]
  },
  {
   "cell_type": "code",
   "execution_count": 59,
   "metadata": {},
   "outputs": [
    {
     "data": {
      "text/plain": [
       "array([ 1.5,  5.5])"
      ]
     },
     "execution_count": 59,
     "metadata": {},
     "output_type": "execute_result"
    }
   ],
   "source": [
    "a.mean(axis=1)                         # aggregate over columns"
   ]
  },
  {
   "cell_type": "code",
   "execution_count": 60,
   "metadata": {},
   "outputs": [
    {
     "data": {
      "text/plain": [
       "(3.5, 2.2912878474779199, 5.25, 0, 7)"
      ]
     },
     "execution_count": 60,
     "metadata": {},
     "output_type": "execute_result"
    }
   ],
   "source": [
    "(a.mean(), a.std(), a.var(), a.min(), a.max())"
   ]
  },
  {
   "cell_type": "code",
   "execution_count": 61,
   "metadata": {},
   "outputs": [
    {
     "data": {
      "text/plain": [
       "(array([ 1,  3,  6, 10, 15, 21, 28, 36]),\n",
       " array([    1,     2,     6,    24,   120,   720,  5040, 40320]))"
      ]
     },
     "execution_count": 61,
     "metadata": {},
     "output_type": "execute_result"
    }
   ],
   "source": [
    "a = a+1\n",
    "\n",
    "a.cumsum(), a.cumprod()\n"
   ]
  },
  {
   "cell_type": "markdown",
   "metadata": {},
   "source": [
    "#### Random numbers"
   ]
  },
  {
   "cell_type": "code",
   "execution_count": 65,
   "metadata": {},
   "outputs": [
    {
     "data": {
      "text/plain": [
       "99.436730815353712"
      ]
     },
     "execution_count": 65,
     "metadata": {},
     "output_type": "execute_result"
    }
   ],
   "source": [
    "mu = 100; sigma = 10\n",
    "s = np.random.normal(mu, sigma, 1000)\n",
    "s.mean()"
   ]
  },
  {
   "cell_type": "code",
   "execution_count": 66,
   "metadata": {},
   "outputs": [
    {
     "data": {
      "text/plain": [
       "4.02305861145358"
      ]
     },
     "execution_count": 66,
     "metadata": {},
     "output_type": "execute_result"
    }
   ],
   "source": [
    "shape, scale = 2., 2.           \n",
    "s = np.random.gamma(shape, scale, 1000)\n",
    "s.mean()"
   ]
  },
  {
   "cell_type": "code",
   "execution_count": 67,
   "metadata": {},
   "outputs": [
    {
     "data": {
      "text/plain": [
       "9.9697690172596793"
      ]
     },
     "execution_count": 67,
     "metadata": {},
     "output_type": "execute_result"
    }
   ],
   "source": [
    "loc, scale = 10, 1\n",
    "s = np.random.logistic(loc, scale, 1000)\n",
    "s.mean()"
   ]
  },
  {
   "cell_type": "markdown",
   "metadata": {},
   "source": [
    "#### Linear algebra"
   ]
  },
  {
   "cell_type": "code",
   "execution_count": 68,
   "metadata": {},
   "outputs": [
    {
     "name": "stdout",
     "output_type": "stream",
     "text": [
      "[[ 0  1  2  3]\n",
      " [ 4  5  6  7]\n",
      " [ 8  9 10 11]]\n"
     ]
    },
    {
     "data": {
      "text/plain": [
       "array([14, 38, 62])"
      ]
     },
     "execution_count": 68,
     "metadata": {},
     "output_type": "execute_result"
    }
   ],
   "source": [
    "values = np.arange(12).reshape(3,4)\n",
    "print(values)\n",
    "\n",
    "weights = np.array([0,1,2,3])\n",
    "np.dot(values, weights)"
   ]
  },
  {
   "cell_type": "code",
   "execution_count": 69,
   "metadata": {},
   "outputs": [
    {
     "name": "stdout",
     "output_type": "stream",
     "text": [
      "[[ 0  4  8]\n",
      " [ 1  5  9]\n",
      " [ 2  6 10]\n",
      " [ 3  7 11]]\n"
     ]
    },
    {
     "data": {
      "text/plain": [
       "array([[ 14,  38,  62],\n",
       "       [ 38, 126, 214],\n",
       "       [ 62, 214, 366]])"
      ]
     },
     "execution_count": 69,
     "metadata": {},
     "output_type": "execute_result"
    }
   ],
   "source": [
    "values_t = values.T            # transpose; \n",
    "print(values_t)\n",
    "\n",
    "np.dot(values, values_t)"
   ]
  },
  {
   "cell_type": "code",
   "execution_count": 70,
   "metadata": {},
   "outputs": [
    {
     "data": {
      "text/plain": [
       "array([[-1.33333333,  0.33333333],\n",
       "       [ 1.        ,  0.        ]])"
      ]
     },
     "execution_count": 70,
     "metadata": {},
     "output_type": "execute_result"
    }
   ],
   "source": [
    "x = np.array([[0,1], [3,4]])\n",
    "np.linalg.inv(x)"
   ]
  },
  {
   "cell_type": "code",
   "execution_count": null,
   "metadata": {
    "collapsed": true
   },
   "outputs": [],
   "source": []
  }
 ],
 "metadata": {
  "kernelspec": {
   "display_name": "Python 3",
   "language": "python",
   "name": "python3"
  },
  "language_info": {
   "codemirror_mode": {
    "name": "ipython",
    "version": 3
   },
   "file_extension": ".py",
   "mimetype": "text/x-python",
   "name": "python",
   "nbconvert_exporter": "python",
   "pygments_lexer": "ipython3",
   "version": "3.5.3"
  }
 },
 "nbformat": 4,
 "nbformat_minor": 2
}
